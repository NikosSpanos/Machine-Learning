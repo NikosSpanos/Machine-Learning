{
 "cells": [
  {
   "cell_type": "code",
   "execution_count": 22,
   "metadata": {
    "collapsed": true
   },
   "outputs": [],
   "source": [
    "import pandas as pd\n",
    "import numpy as np\n",
    "import matplotlib.pyplot as plt\n",
    "import seaborn as sns\n",
    "%matplotlib inline"
   ]
  },
  {
   "cell_type": "code",
   "execution_count": 23,
   "metadata": {
    "collapsed": true
   },
   "outputs": [],
   "source": [
    "HousePr = pd.read_csv('C:\\\\Users\\\\Nikos Spanos\\\\Documents\\\\Jupyter_Lab_ReGen\\\\phase-b\\\\House Price.csv')"
   ]
  },
  {
   "cell_type": "code",
   "execution_count": 24,
   "metadata": {
    "collapsed": true
   },
   "outputs": [],
   "source": [
    "HousePr_new = HousePr.drop(['Id', 'MSSubClass', 'MSZoning', 'Street', 'LotFrontage', 'Alley', 'LandSlope', 'LotConfig', \n",
    "              'Utilities', 'LandContour', 'Condition1', 'Condition2', 'RoofStyle', 'RoofMatl', 'BldgType', \n",
    "              'MasVnrArea', 'ExterCond', 'ExterQual', 'BsmtQual', 'BsmtCond', 'BsmtExposure', 'BsmtFinType1', \n",
    "              'BsmtFinSF1', 'BsmtFinType2', 'BsmtFinSF2', 'BsmtUnfSF', 'Heating', 'HeatingQC', 'CentralAir',\n",
    "              'Electrical', 'LowQualFinSF', 'GrLivArea', 'BsmtFullBath', 'KitchenAbvGr', \n",
    "              'KitchenQual', 'TotRmsAbvGrd', 'Functional', 'FireplaceQu', 'Fireplaces', 'GarageType', 'GarageYrBlt', 'GarageArea', \n",
    "              'GarageQual', 'GarageCond', 'PavedDrive', 'PoolArea', 'Fence', 'MoSold', 'SaleType', 'SaleCondition'], axis=1)"
   ]
  },
  {
   "cell_type": "code",
   "execution_count": 25,
   "metadata": {
    "collapsed": true
   },
   "outputs": [],
   "source": [
    "HousePr_new.LotShape= HousePr_new.LotShape.map({'Reg':0, 'IR1':1, 'IR2':2, 'IR3':3})"
   ]
  },
  {
   "cell_type": "code",
   "execution_count": 26,
   "metadata": {
    "collapsed": true
   },
   "outputs": [],
   "source": [
    "HousePr_new.PoolQC = HousePr_new.PoolQC.map({'Gd':1, 'Fa':1, 'Ex':1})"
   ]
  },
  {
   "cell_type": "code",
   "execution_count": 27,
   "metadata": {
    "collapsed": true
   },
   "outputs": [],
   "source": [
    "mapping={'RFn':1, 'Unf':0, 'Fin':1}\n",
    "HousePr_new.GarageFinish=HousePr_new.GarageFinish.map(mapping)"
   ]
  },
  {
   "cell_type": "code",
   "execution_count": 28,
   "metadata": {
    "collapsed": false
   },
   "outputs": [],
   "source": [
    "mapping={'BrkFace':1, 'None':0, 'Stone':2, 'BrkCmn':3}\n",
    "HousePr_new.MasVnrType=HousePr_new.MasVnrType.map(mapping)\n",
    "HousePr_new.MasVnrType.fillna(0, inplace=True)"
   ]
  },
  {
   "cell_type": "code",
   "execution_count": 29,
   "metadata": {
    "collapsed": true
   },
   "outputs": [],
   "source": [
    "HousePr_new.OpenPorchSF = HousePr_new.WoodDeckSF + HousePr_new.OpenPorchSF + HousePr_new.EnclosedPorch + HousePr_new[\"3SsnPorch\"] + HousePr_new.ScreenPorch"
   ]
  },
  {
   "cell_type": "code",
   "execution_count": 30,
   "metadata": {
    "collapsed": true
   },
   "outputs": [],
   "source": [
    "HousePr_new=HousePr_new.drop(['WoodDeckSF', 'EnclosedPorch', '3SsnPorch','ScreenPorch'], axis=1)"
   ]
  },
  {
   "cell_type": "code",
   "execution_count": 31,
   "metadata": {
    "collapsed": true
   },
   "outputs": [],
   "source": [
    "HousePr_new.OpenPorchSF=(HousePr_new.OpenPorchSF > 1).astype(int)"
   ]
  },
  {
   "cell_type": "code",
   "execution_count": 32,
   "metadata": {
    "collapsed": false
   },
   "outputs": [
    {
     "name": "stderr",
     "output_type": "stream",
     "text": [
      "C:\\Users\\Nikos Spanos\\Anaconda3\\lib\\site-packages\\sklearn\\utils\\validation.py:475: DataConversionWarning: Data with input dtype int64 was converted to float64 by StandardScaler.\n",
      "  warnings.warn(msg, DataConversionWarning)\n"
     ]
    }
   ],
   "source": [
    "from sklearn.preprocessing import StandardScaler\n",
    "\n",
    "scaled_features = HousePr_new.copy()\n",
    "\n",
    "col_names = ['LotArea', 'TotalBsmtSF', '1stFlrSF', '2ndFlrSF', 'OpenPorchSF', 'MiscVal']\n",
    "features = scaled_features[col_names]\n",
    "scaler = StandardScaler().fit(features.values)\n",
    "features = scaler.transform(features.values)"
   ]
  },
  {
   "cell_type": "code",
   "execution_count": 33,
   "metadata": {
    "collapsed": false
   },
   "outputs": [
    {
     "name": "stdout",
     "output_type": "stream",
     "text": [
      "       LotArea  LotShape Neighborhood HouseStyle  OverallQual  OverallCond  \\\n",
      "0    -0.207142         0      CollgCr     2Story            7            5   \n",
      "1    -0.091886         0      Veenker     1Story            6            8   \n",
      "2     0.073480         1      CollgCr     2Story            7            5   \n",
      "3    -0.096897         1      Crawfor     2Story            7            5   \n",
      "4     0.375148         1      NoRidge     2Story            8            5   \n",
      "5     0.360616         1      Mitchel     1.5Fin            5            5   \n",
      "6    -0.043379         0      Somerst     1Story            8            5   \n",
      "7    -0.013513         1       NWAmes     2Story            7            6   \n",
      "8    -0.440659         0      OldTown     1.5Fin            7            5   \n",
      "9    -0.310370         0      BrkSide     1.5Unf            5            6   \n",
      "10    0.068469         0       Sawyer     1Story            5            5   \n",
      "11    0.141030         1      NridgHt     2Story            9            5   \n",
      "12    0.245661         2       Sawyer     1Story            5            6   \n",
      "13    0.013547         1      CollgCr     1Story            7            5   \n",
      "14    0.040407         1        NAmes     1Story            6            5   \n",
      "15   -0.440659         0      BrkSide     1.5Unf            7            8   \n",
      "16    0.072578         1        NAmes     1Story            6            7   \n",
      "17    0.027478         0       Sawyer     1Story            4            5   \n",
      "18    0.318523         0      SawyerW     1Story            5            5   \n",
      "19   -0.296339         0        NAmes     1Story            5            6   \n",
      "20    0.370638         1      NridgHt     2Story            8            5   \n",
      "21   -0.307464         0       IDOTRR     1.5Unf            7            7   \n",
      "22   -0.077655         0      CollgCr     1Story            8            5   \n",
      "23   -0.630680         0      MeadowV     1Story            5            7   \n",
      "24   -0.227587         1       Sawyer     1Story            5            8   \n",
      "25    0.372142         0      NridgHt     1Story            8            5   \n",
      "26   -0.332419         0        NAmes     1Story            5            7   \n",
      "27    0.096331         0      NridgHt     1Story            8            5   \n",
      "28    0.581706         1        NAmes     1Story            5            6   \n",
      "29   -0.420214         1      BrkSide     1Story            4            6   \n",
      "...        ...       ...          ...        ...          ...          ...   \n",
      "1430  1.143851         3      Gilbert     2Story            5            5   \n",
      "1431 -0.560124         1      NPkVill     1Story            6            6   \n",
      "1432  0.028380         0      OldTown     1Story            4            6   \n",
      "1433 -0.025640         1      Gilbert     2Story            6            5   \n",
      "1434  0.689845         0      Mitchel     1Story            5            5   \n",
      "1435 -0.212153         0        NAmes     1Story            6            9   \n",
      "1436 -0.152020         0        NAmes     1Story            4            6   \n",
      "1437  0.193145         0      NridgHt     1Story            8            5   \n",
      "1438 -0.311673         0      OldTown     1Story            6            7   \n",
      "1439  0.106954         0       NWAmes       SLvl            7            6   \n",
      "1440  0.101141         1      Crawfor     2.5Fin            6            7   \n",
      "1441 -0.610435         0      CollgCr     1Story            6            5   \n",
      "1442  0.048725         0      Somerst     2Story           10            5   \n",
      "1443 -0.166652         0      BrkSide     1.5Unf            6            6   \n",
      "1444 -0.202131         0      CollgCr     1Story            7            5   \n",
      "1445 -0.212153         0       Sawyer     SFoyer            6            5   \n",
      "1446  1.565986         1      Mitchel     1Story            5            7   \n",
      "1447 -0.051798         0      CollgCr     2Story            8            5   \n",
      "1448  0.125295         0      Edwards     2Story            4            7   \n",
      "1449 -0.900377         0      MeadowV     SFoyer            5            7   \n",
      "1450 -0.152020         0        NAmes     2Story            5            5   \n",
      "1451 -0.125761         0      Somerst     1Story            8            5   \n",
      "1452 -0.685702         0      Edwards       SLvl            5            5   \n",
      "1453  0.671505         0      Mitchel     1Story            5            5   \n",
      "1454 -0.302353         0      Somerst     1Story            7            5   \n",
      "1455 -0.260560         0      Gilbert     2Story            6            5   \n",
      "1456  0.266407         0       NWAmes     1Story            6            6   \n",
      "1457 -0.147810         0      Crawfor     2Story            7            9   \n",
      "1458 -0.080160         0        NAmes     1Story            5            6   \n",
      "1459 -0.058112         0      Edwards     1Story            5            6   \n",
      "\n",
      "      YearBuilt  YearRemodAdd Exterior1st Exterior2nd    ...      HalfBath  \\\n",
      "0          2003          2003     VinylSd     VinylSd    ...             1   \n",
      "1          1976          1976     MetalSd     MetalSd    ...             0   \n",
      "2          2001          2002     VinylSd     VinylSd    ...             1   \n",
      "3          1915          1970     Wd Sdng     Wd Shng    ...             0   \n",
      "4          2000          2000     VinylSd     VinylSd    ...             1   \n",
      "5          1993          1995     VinylSd     VinylSd    ...             1   \n",
      "6          2004          2005     VinylSd     VinylSd    ...             0   \n",
      "7          1973          1973     HdBoard     HdBoard    ...             1   \n",
      "8          1931          1950     BrkFace     Wd Shng    ...             0   \n",
      "9          1939          1950     MetalSd     MetalSd    ...             0   \n",
      "10         1965          1965     HdBoard     HdBoard    ...             0   \n",
      "11         2005          2006     WdShing     Wd Shng    ...             0   \n",
      "12         1962          1962     HdBoard     Plywood    ...             0   \n",
      "13         2006          2007     VinylSd     VinylSd    ...             0   \n",
      "14         1960          1960     MetalSd     MetalSd    ...             1   \n",
      "15         1929          2001     Wd Sdng     Wd Sdng    ...             0   \n",
      "16         1970          1970     Wd Sdng     Wd Sdng    ...             0   \n",
      "17         1967          1967     MetalSd     MetalSd    ...             0   \n",
      "18         2004          2004     VinylSd     VinylSd    ...             1   \n",
      "19         1958          1965     BrkFace     Plywood    ...             0   \n",
      "20         2005          2006     VinylSd     VinylSd    ...             1   \n",
      "21         1930          1950     Wd Sdng     Wd Sdng    ...             0   \n",
      "22         2002          2002     VinylSd     VinylSd    ...             0   \n",
      "23         1976          1976     CemntBd     CmentBd    ...             0   \n",
      "24         1968          2001     Plywood     Plywood    ...             0   \n",
      "25         2007          2007     VinylSd     VinylSd    ...             0   \n",
      "26         1951          2000     Wd Sdng     Wd Sdng    ...             0   \n",
      "27         2007          2008     VinylSd     VinylSd    ...             0   \n",
      "28         1957          1997     MetalSd     MetalSd    ...             0   \n",
      "29         1927          1950     MetalSd     MetalSd    ...             0   \n",
      "...         ...           ...         ...         ...    ...           ...   \n",
      "1430       2005          2005     VinylSd     VinylSd    ...             1   \n",
      "1431       1976          1976     Plywood     Plywood    ...             0   \n",
      "1432       1927          2007     Wd Sdng     Wd Sdng    ...             0   \n",
      "1433       2000          2000     VinylSd     VinylSd    ...             1   \n",
      "1434       1977          1977     BrkFace     BrkFace    ...             0   \n",
      "1435       1962          2005     Wd Sdng     Wd Sdng    ...             1   \n",
      "1436       1971          1971     HdBoard     HdBoard    ...             0   \n",
      "1437       2008          2008     VinylSd     VinylSd    ...             0   \n",
      "1438       1957          1996     MetalSd     MetalSd    ...             0   \n",
      "1439       1979          1979     HdBoard     HdBoard    ...             1   \n",
      "1440       1922          1994     MetalSd     MetalSd    ...             0   \n",
      "1441       2004          2004     VinylSd     VinylSd    ...             0   \n",
      "1442       2008          2008     VinylSd     VinylSd    ...             1   \n",
      "1443       1916          1950     Wd Sdng     Wd Sdng    ...             0   \n",
      "1444       2004          2004     VinylSd     VinylSd    ...             0   \n",
      "1445       1966          1966     VinylSd     VinylSd    ...             0   \n",
      "1446       1962          1962     HdBoard     HdBoard    ...             0   \n",
      "1447       1995          1996     VinylSd     VinylSd    ...             1   \n",
      "1448       1910          2000     MetalSd     HdBoard    ...             1   \n",
      "1449       1970          1970     CemntBd     CmentBd    ...             0   \n",
      "1450       1974          1974     VinylSd     VinylSd    ...             2   \n",
      "1451       2008          2009     CemntBd     CmentBd    ...             0   \n",
      "1452       2005          2005     VinylSd     VinylSd    ...             0   \n",
      "1453       2006          2006     VinylSd     VinylSd    ...             0   \n",
      "1454       2004          2005     VinylSd     VinylSd    ...             0   \n",
      "1455       1999          2000     VinylSd     VinylSd    ...             1   \n",
      "1456       1978          1988     Plywood     Plywood    ...             0   \n",
      "1457       1941          2006     CemntBd     CmentBd    ...             0   \n",
      "1458       1950          1996     MetalSd     MetalSd    ...             0   \n",
      "1459       1965          1965     HdBoard     HdBoard    ...             1   \n",
      "\n",
      "     BedroomAbvGr  GarageFinish  GarageCars  OpenPorchSF  PoolQC  MiscFeature  \\\n",
      "0               3           1.0           2     0.458927     NaN          NaN   \n",
      "1               3           1.0           2     0.458927     NaN          NaN   \n",
      "2               3           1.0           2     0.458927     NaN          NaN   \n",
      "3               3           0.0           3     0.458927     NaN          NaN   \n",
      "4               4           1.0           3     0.458927     NaN          NaN   \n",
      "5               1           0.0           2     0.458927     NaN         Shed   \n",
      "6               3           1.0           2     0.458927     NaN          NaN   \n",
      "7               3           1.0           2     0.458927     NaN         Shed   \n",
      "8               2           0.0           2     0.458927     NaN          NaN   \n",
      "9               2           1.0           1     0.458927     NaN          NaN   \n",
      "10              3           0.0           1    -2.178998     NaN          NaN   \n",
      "11              4           1.0           3     0.458927     NaN          NaN   \n",
      "12              2           0.0           1     0.458927     NaN          NaN   \n",
      "13              3           1.0           3     0.458927     NaN          NaN   \n",
      "14              2           1.0           1     0.458927     NaN          NaN   \n",
      "15              2           0.0           2     0.458927     NaN          NaN   \n",
      "16              2           1.0           2    -2.178998     NaN         Shed   \n",
      "17              2           0.0           2    -2.178998     NaN         Shed   \n",
      "18              3           0.0           2     0.458927     NaN          NaN   \n",
      "19              3           0.0           1    -2.178998     NaN          NaN   \n",
      "20              4           1.0           3     0.458927     NaN          NaN   \n",
      "21              3           0.0           1     0.458927     NaN          NaN   \n",
      "22              3           1.0           2     0.458927     NaN          NaN   \n",
      "23              3           0.0           2     0.458927     NaN          NaN   \n",
      "24              3           0.0           1     0.458927     NaN          NaN   \n",
      "25              3           1.0           3     0.458927     NaN          NaN   \n",
      "26              3           0.0           2     0.458927     NaN          NaN   \n",
      "27              3           1.0           3     0.458927     NaN          NaN   \n",
      "28              2           1.0           1     0.458927     NaN          NaN   \n",
      "29              1           0.0           1     0.458927     NaN          NaN   \n",
      "...           ...           ...         ...          ...     ...          ...   \n",
      "1430            4           1.0           2     0.458927     NaN          NaN   \n",
      "1431            2           1.0           2     0.458927     NaN          NaN   \n",
      "1432            4           0.0           1    -2.178998     NaN          NaN   \n",
      "1433            3           1.0           2    -2.178998     NaN          NaN   \n",
      "1434            3           1.0           2     0.458927     NaN          NaN   \n",
      "1435            3           1.0           2     0.458927     NaN          NaN   \n",
      "1436            3           0.0           2    -2.178998     NaN          NaN   \n",
      "1437            2           1.0           3     0.458927     NaN          NaN   \n",
      "1438            2           0.0           2     0.458927     NaN          NaN   \n",
      "1439            3           1.0           2     0.458927     NaN          NaN   \n",
      "1440            3           1.0           2     0.458927     NaN          NaN   \n",
      "1441            1           1.0           2     0.458927     NaN          NaN   \n",
      "1442            3           1.0           3     0.458927     NaN          NaN   \n",
      "1443            2           0.0           1     0.458927     NaN          NaN   \n",
      "1444            3           1.0           2     0.458927     NaN          NaN   \n",
      "1445            3           0.0           1     0.458927     NaN          NaN   \n",
      "1446            3           0.0           1     0.458927     NaN          NaN   \n",
      "1447            3           1.0           2     0.458927     NaN          NaN   \n",
      "1448            2           0.0           1     0.458927     NaN          NaN   \n",
      "1449            1           NaN           0    -2.178998     NaN          NaN   \n",
      "1450            4           NaN           0     0.458927     NaN          NaN   \n",
      "1451            3           1.0           3     0.458927     NaN          NaN   \n",
      "1452            2           1.0           2     0.458927     NaN          NaN   \n",
      "1453            3           NaN           0     0.458927     NaN          NaN   \n",
      "1454            2           1.0           2     0.458927     NaN          NaN   \n",
      "1455            3           1.0           2     0.458927     NaN          NaN   \n",
      "1456            3           0.0           2     0.458927     NaN          NaN   \n",
      "1457            4           1.0           1     0.458927     NaN         Shed   \n",
      "1458            2           0.0           1     0.458927     NaN          NaN   \n",
      "1459            3           1.0           1     0.458927     NaN          NaN   \n",
      "\n",
      "       MiscVal  YrSold  SalePrice  \n",
      "0    -0.087688    2008     208500  \n",
      "1    -0.087688    2007     181500  \n",
      "2    -0.087688    2008     223500  \n",
      "3    -0.087688    2006     140000  \n",
      "4    -0.087688    2008     250000  \n",
      "5     1.323736    2009     143000  \n",
      "6    -0.087688    2007     307000  \n",
      "7     0.618024    2009     200000  \n",
      "8    -0.087688    2008     129900  \n",
      "9    -0.087688    2008     118000  \n",
      "10   -0.087688    2008     129500  \n",
      "11   -0.087688    2006     345000  \n",
      "12   -0.087688    2008     144000  \n",
      "13   -0.087688    2007     279500  \n",
      "14   -0.087688    2008     157000  \n",
      "15   -0.087688    2007     132000  \n",
      "16    1.323736    2010     149000  \n",
      "17    0.920472    2006      90000  \n",
      "18   -0.087688    2008     159000  \n",
      "19   -0.087688    2009     139000  \n",
      "20   -0.087688    2006     325300  \n",
      "21   -0.087688    2007     139400  \n",
      "22   -0.087688    2008     230000  \n",
      "23   -0.087688    2007     129900  \n",
      "24   -0.087688    2010     154000  \n",
      "25   -0.087688    2009     256300  \n",
      "26   -0.087688    2010     134800  \n",
      "27   -0.087688    2010     306000  \n",
      "28   -0.087688    2006     207500  \n",
      "29   -0.087688    2008      68500  \n",
      "...        ...     ...        ...  \n",
      "1430 -0.087688    2006     192140  \n",
      "1431 -0.087688    2009     143750  \n",
      "1432 -0.087688    2007      64500  \n",
      "1433 -0.087688    2008     186500  \n",
      "1434 -0.087688    2006     160000  \n",
      "1435 -0.087688    2008     174000  \n",
      "1436 -0.087688    2007     120500  \n",
      "1437 -0.087688    2008     394617  \n",
      "1438 -0.087688    2010     149700  \n",
      "1439 -0.087688    2007     197000  \n",
      "1440 -0.087688    2008     191000  \n",
      "1441 -0.087688    2008     149300  \n",
      "1442 -0.087688    2009     310000  \n",
      "1443 -0.087688    2009     121000  \n",
      "1444 -0.087688    2007     179600  \n",
      "1445 -0.087688    2007     129000  \n",
      "1446 -0.087688    2010     157900  \n",
      "1447 -0.087688    2007     240000  \n",
      "1448 -0.087688    2007     112000  \n",
      "1449 -0.087688    2006      92000  \n",
      "1450 -0.087688    2009     136000  \n",
      "1451 -0.087688    2009     287090  \n",
      "1452 -0.087688    2006     145000  \n",
      "1453 -0.087688    2006      84500  \n",
      "1454 -0.087688    2009     185000  \n",
      "1455 -0.087688    2007     175000  \n",
      "1456 -0.087688    2010     210000  \n",
      "1457  4.953112    2010     266500  \n",
      "1458 -0.087688    2010     142125  \n",
      "1459 -0.087688    2008     147500  \n",
      "\n",
      "[1460 rows x 27 columns]\n"
     ]
    }
   ],
   "source": [
    "scaled_features[col_names] = features\n",
    "print(scaled_features)"
   ]
  },
  {
   "cell_type": "code",
   "execution_count": 34,
   "metadata": {
    "collapsed": true
   },
   "outputs": [],
   "source": [
    "scaled_features.fillna(0, inplace=True)"
   ]
  },
  {
   "cell_type": "code",
   "execution_count": 35,
   "metadata": {
    "collapsed": false
   },
   "outputs": [
    {
     "data": {
      "text/plain": [
       "((1460, 95), (1460,))"
      ]
     },
     "execution_count": 35,
     "metadata": {},
     "output_type": "execute_result"
    }
   ],
   "source": [
    "X = scaled_features.drop(['SalePrice'], axis=1)\n",
    "X = pd.get_dummies(X)\n",
    "y = scaled_features['SalePrice'].as_matrix().astype(np.float)\n",
    "X = X.as_matrix().astype(np.float)\n",
    "\n",
    "X.shape, y.shape"
   ]
  },
  {
   "cell_type": "code",
   "execution_count": 36,
   "metadata": {
    "collapsed": false
   },
   "outputs": [
    {
     "data": {
      "text/plain": [
       "((1095, 95), (1095,))"
      ]
     },
     "execution_count": 36,
     "metadata": {},
     "output_type": "execute_result"
    }
   ],
   "source": [
    "from sklearn.model_selection import train_test_split\n",
    "X_train, X_test, y_train, y_test = train_test_split(X, y, test_size=0.25)\n",
    "\n",
    "X_train.shape, y_train.shape"
   ]
  },
  {
   "cell_type": "code",
   "execution_count": 37,
   "metadata": {
    "collapsed": true
   },
   "outputs": [],
   "source": [
    "from sklearn.metrics import mean_squared_log_error\n",
    "y_test = y_test.astype('float64')\n",
    "\n",
    "def rmsle(real, predicted):\n",
    "    sum=0.0\n",
    "    for x in range(len(predicted)):\n",
    "        if predicted[x]<0 or real[x]<0: #check for negative values\n",
    "            continue\n",
    "        p = np.log(predicted[x]+1)\n",
    "        r = np.log(real[x]+1)\n",
    "        sum = sum + (p - r)**2\n",
    "    return (sum/len(predicted))**0.5"
   ]
  },
  {
   "cell_type": "code",
   "execution_count": 38,
   "metadata": {
    "collapsed": false
   },
   "outputs": [
    {
     "name": "stdout",
     "output_type": "stream",
     "text": [
      "0.198\n"
     ]
    }
   ],
   "source": [
    "from sklearn.linear_model import LinearRegression\n",
    "lr = LinearRegression()\n",
    "lr.fit(X_train,y_train)\n",
    "pred = lr.predict(X_test)\n",
    "\n",
    "print(rmsle(y_test, pred).round(3))"
   ]
  },
  {
   "cell_type": "code",
   "execution_count": 39,
   "metadata": {
    "collapsed": false
   },
   "outputs": [
    {
     "name": "stdout",
     "output_type": "stream",
     "text": [
      "0.409\n"
     ]
    },
    {
     "name": "stderr",
     "output_type": "stream",
     "text": [
      "C:\\Users\\Nikos Spanos\\Anaconda3\\lib\\site-packages\\sklearn\\neural_network\\multilayer_perceptron.py:564: ConvergenceWarning: Stochastic Optimizer: Maximum iterations (200) reached and the optimization hasn't converged yet.\n",
      "  % self.max_iter, ConvergenceWarning)\n"
     ]
    }
   ],
   "source": [
    "from sklearn.neural_network import MLPRegressor\n",
    "mlp = MLPRegressor()\n",
    "mlp.fit(X_train, y_train)\n",
    "pred = mlp.predict(X_test)\n",
    "\n",
    "print(rmsle(y_test, pred).round(3))"
   ]
  },
  {
   "cell_type": "code",
   "execution_count": 40,
   "metadata": {
    "collapsed": false
   },
   "outputs": [
    {
     "name": "stdout",
     "output_type": "stream",
     "text": [
      "0.198\n"
     ]
    },
    {
     "name": "stderr",
     "output_type": "stream",
     "text": [
      "C:\\Users\\Nikos Spanos\\Anaconda3\\lib\\site-packages\\sklearn\\linear_model\\coordinate_descent.py:491: ConvergenceWarning: Objective did not converge. You might want to increase the number of iterations. Fitting data with very small alpha may cause precision problems.\n",
      "  ConvergenceWarning)\n"
     ]
    }
   ],
   "source": [
    "from sklearn import linear_model\n",
    "\n",
    "clf = linear_model.Lasso(alpha=1)\n",
    "clf.fit(X_train, y_train)\n",
    "pred = clf.predict(X_test)\n",
    "\n",
    "print(rmsle(y_test, pred).round(3))"
   ]
  },
  {
   "cell_type": "code",
   "execution_count": 41,
   "metadata": {
    "collapsed": false
   },
   "outputs": [
    {
     "name": "stdout",
     "output_type": "stream",
     "text": [
      "0.326\n"
     ]
    }
   ],
   "source": [
    "from sklearn.tree import DecisionTreeRegressor\n",
    "reg = DecisionTreeRegressor(max_depth=1)\n",
    "reg.fit(X_train, y_train)\n",
    "pred = reg.predict(X_test)\n",
    "\n",
    "print(rmsle(y_test, pred).round(3))"
   ]
  },
  {
   "cell_type": "code",
   "execution_count": 44,
   "metadata": {
    "collapsed": false
   },
   "outputs": [
    {
     "data": {
      "text/plain": [
       "0.162"
      ]
     },
     "execution_count": 44,
     "metadata": {},
     "output_type": "execute_result"
    }
   ],
   "source": [
    "from sklearn.pipeline import Pipeline\n",
    "from sklearn.preprocessing import StandardScaler\n",
    "from sklearn.model_selection import GridSearchCV\n",
    "from sklearn.ensemble import RandomForestRegressor\n",
    "#from sklearn.feature_selection import VarianceThreshold\n",
    "#from sklearn.decomposition import PCA\n",
    "\n",
    "pipe = Pipeline(steps=[#('selector', VarianceThreshold()),\n",
    "                       #('pca', PCA()),\n",
    "                       ('random_forest',RandomForestRegressor())])\n",
    "\n",
    "param_grid = {#'selector__threshold': [0.0, 0.005],\n",
    "              #'pca__n_components': [15, 20],\n",
    "              'random_forest__n_estimators':[25, 50, 80]}\n",
    "\n",
    "grid = GridSearchCV(pipe, param_grid, cv=5)\n",
    "grid.fit(X_train, y_train)\n",
    "grid.best_estimator_\n",
    "preds = grid.predict(X_test)\n",
    "rmsle(y_test, preds).round(3)"
   ]
  },
  {
   "cell_type": "code",
   "execution_count": 43,
   "metadata": {
    "collapsed": false
   },
   "outputs": [
    {
     "data": {
      "image/png": "[encoded data removed]",
      "text/plain": [
       "<matplotlib.figure.Figure at 0x1f69c57fa90>"
      ]
     },
     "metadata": {},
     "output_type": "display_data"
    }
   ],
   "source": [
    "x = ['Linear Regression', 'MLP', 'Lasso', 'Decision Tree']\n",
    "y = [0.198, 0.409, 0.198, 0.326]\n",
    "\n",
    "sns.barplot(x, y, color = 'gold')\n",
    "plt.ylim([0,0.5])\n",
    "plt.xticks(rotation='horizontal')\n",
    "plt.title('Score per metric')\n",
    "plt.show()"
   ]
  },
  {
   "cell_type": "code",
   "execution_count": null,
   "metadata": {
    "collapsed": true
   },
   "outputs": [],
   "source": []
  }
 ],
 "metadata": {
  "kernelspec": {
   "display_name": "Python [default]",
   "language": "python",
   "name": "python3"
  },
  "language_info": {
   "codemirror_mode": {
    "name": "ipython",
    "version": 3
   },
   "file_extension": ".py",
   "mimetype": "text/x-python",
   "name": "python",
   "nbconvert_exporter": "python",
   "pygments_lexer": "ipython3",
   "version": "3.5.2"
  }
 },
 "nbformat": 4,
 "nbformat_minor": 1
}
